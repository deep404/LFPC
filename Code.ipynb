{
 "cells": [
  {
   "cell_type": "code",
   "execution_count": 1,
   "metadata": {},
   "outputs": [],
   "source": [
    "import networkx as nx\n",
    "import numpy as np\n",
    "import matplotlib.pyplot as plt\n",
    "import pylab"
   ]
  },
  {
   "cell_type": "code",
   "execution_count": 2,
   "metadata": {},
   "outputs": [
    {
     "name": "stdout",
     "output_type": "stream",
     "text": [
      "+---------------------------------+\n",
      "|  STRING FROM GRAMMAR GENERATOR  |\n",
      "|          G = (N,Ʃ,P,S)          |\n",
      "|                                 |\n",
      "| N - nonterminal symbols         |\n",
      "| Ʃ - terminal symbols            |\n",
      "| P - production rules            |\n",
      "| S - start symbol                |\n",
      "+---------------------------------+\n"
     ]
    }
   ],
   "source": [
    "print('+---------------------------------+')\n",
    "print('|  STRING FROM GRAMMAR GENERATOR  |')\n",
    "print('|          G = (N,Ʃ,P,S)          |')\n",
    "print('|                                 |')\n",
    "print('| N - nonterminal symbols         |')\n",
    "print('| Ʃ - terminal symbols            |')\n",
    "print('| P - production rules            |')\n",
    "print('| S - start symbol                |')\n",
    "print('+---------------------------------+')"
   ]
  },
  {
   "cell_type": "code",
   "execution_count": 3,
   "metadata": {},
   "outputs": [
    {
     "name": "stdout",
     "output_type": "stream",
     "text": [
      "Set terminal symbols [Ʃ] (type \"next\" to next step):a\n",
      "Ʃ = {a}\n",
      "b\n",
      "Ʃ = {a, b}\n",
      "c\n",
      "Ʃ = {a, b, c}\n",
      "d\n",
      "Ʃ = {a, b, c, d}\n",
      "next\n"
     ]
    }
   ],
   "source": [
    "terminal_symbols = []\n",
    "aux = ''\n",
    "aux = input('Set terminal symbols [Ʃ] (type \"next\" to next step):')\n",
    "while (aux != 'next'):\n",
    "    output = ''\n",
    "    terminal_symbols.append(aux)\n",
    "    output += 'Ʃ = {'\n",
    "    for x in terminal_symbols:\n",
    "        output += x + ', '\n",
    "    output = output[:(len(output) - 2)]\n",
    "    output += '}'\n",
    "    print(output)\n",
    "    aux = input()"
   ]
  },
  {
   "cell_type": "code",
   "execution_count": 4,
   "metadata": {},
   "outputs": [
    {
     "name": "stdout",
     "output_type": "stream",
     "text": [
      "Set nonterminal symbols [N] (type \"next\" to next step):S\n",
      "N = {S}\n",
      "A\n",
      "N = {S, A}\n",
      "B\n",
      "N = {S, A, B}\n",
      "C\n",
      "N = {S, A, B, C}\n",
      "next\n"
     ]
    }
   ],
   "source": [
    "nonterminal_symbols = []\n",
    "aux = input('Set nonterminal symbols [N] (type \"next\" to next step):')\n",
    "while(aux != 'next'):\n",
    "    output = ''\n",
    "    nonterminal_symbols.append(aux)\n",
    "    output += 'N = {'\n",
    "    for x in nonterminal_symbols:\n",
    "        output += x + ', '\n",
    "    output = output[:(len(output) - 2)]\n",
    "    output += '}'\n",
    "    print(output)\n",
    "    aux = input()"
   ]
  },
  {
   "cell_type": "code",
   "execution_count": 5,
   "metadata": {},
   "outputs": [
    {
     "name": "stdout",
     "output_type": "stream",
     "text": [
      "Set start symbol [S]:S\n"
     ]
    }
   ],
   "source": [
    "start_symbol = ''\n",
    "start_symbol = input('Set start symbol [S]:')"
   ]
  },
  {
   "cell_type": "code",
   "execution_count": 6,
   "metadata": {},
   "outputs": [
    {
     "name": "stdout",
     "output_type": "stream",
     "text": [
      "Set productions rules [P] (type \"next\" for next step):S -> dA\n",
      "P = {\n",
      "\tS -> dA\n",
      "}\n",
      "A -> d\n",
      "P = {\n",
      "\tS -> dA\n",
      "\tA -> d\n",
      "}\n",
      "A -> aB\n",
      "P = {\n",
      "\tS -> dA\n",
      "\tA -> d\n",
      "\tA -> aB\n",
      "}\n",
      "B -> bC\n",
      "P = {\n",
      "\tS -> dA\n",
      "\tA -> d\n",
      "\tA -> aB\n",
      "\tB -> bC\n",
      "}\n",
      "C -> cA\n",
      "P = {\n",
      "\tS -> dA\n",
      "\tA -> d\n",
      "\tA -> aB\n",
      "\tB -> bC\n",
      "\tC -> cA\n",
      "}\n",
      "C -> aS\n",
      "P = {\n",
      "\tS -> dA\n",
      "\tA -> d\n",
      "\tA -> aB\n",
      "\tB -> bC\n",
      "\tC -> cA\n",
      "\tC -> aS\n",
      "}\n",
      "next\n"
     ]
    }
   ],
   "source": [
    "rules = []\n",
    "aux = input('Set productions rules [P] (type \"next\" for next step):')\n",
    "while (aux != 'next'):\n",
    "    output = ''\n",
    "    rules.append(aux)\n",
    "    output += 'P = {\\n'\n",
    "    for x in rules:\n",
    "        output += '\\t' + x + '\\n'\n",
    "    output += '}'\n",
    "    print(output)\n",
    "    aux = input()"
   ]
  },
  {
   "cell_type": "code",
   "execution_count": 7,
   "metadata": {},
   "outputs": [
    {
     "name": "stdout",
     "output_type": "stream",
     "text": [
      "The grammer is:\n",
      "G(N,Ʃ,P,S)\n",
      "Ʃ = {a, b, c, d}\n",
      "N = {S, A, B, C}\n",
      "S = S\n",
      "P = {\n",
      "\tS -> dA\n",
      "\tA -> d\n",
      "\tA -> aB\n",
      "\tB -> bC\n",
      "\tC -> cA\n",
      "\tC -> aS\n",
      "}\n"
     ]
    }
   ],
   "source": [
    "print('The grammer is:')\n",
    "print('G(N,Ʃ,P,S)')\n",
    "\n",
    "output = 'Ʃ = {'\n",
    "for x in terminal_symbols:\n",
    "    output += x + ', '\n",
    "output = output[:(len(output) - 2)]\n",
    "output += '}'\n",
    "print(output)\n",
    "\n",
    "output = 'N = {'\n",
    "for x in nonterminal_symbols:\n",
    "    output += x + ', '\n",
    "output = output[:(len(output) - 2)]\n",
    "output += '}'\n",
    "print(output)\n",
    "\n",
    "print('S = ' + start_symbol)\n",
    "\n",
    "output = 'P = {\\n'\n",
    "for x in rules:\n",
    "    output += '\\t' + x + '\\n'\n",
    "output += '}'\n",
    "print(output)"
   ]
  },
  {
   "cell_type": "code",
   "execution_count": 8,
   "metadata": {},
   "outputs": [
    {
     "name": "stdout",
     "output_type": "stream",
     "text": [
      "Set the string to be checked (type \"next\" for next step):dabadabcd\n"
     ]
    }
   ],
   "source": [
    "check_string = ''\n",
    "check_string = input('Set the string to be checked (type \"next\" for next step):')"
   ]
  },
  {
   "cell_type": "code",
   "execution_count": 9,
   "metadata": {},
   "outputs": [
    {
     "name": "stdout",
     "output_type": "stream",
     "text": [
      "(('d', '$'), ('a', 'B'))\n",
      "(('b', 'C'),)\n",
      "(('c', 'A'), ('a', 'S'))\n",
      "(('d', 'A'),)\n"
     ]
    }
   ],
   "source": [
    "#Gramatica de la toate variantele de la laboratorul 1 sunt de tip 3\n",
    "rules_dic = {}\n",
    "for rule in rules:\n",
    "    if rule[-1] in terminal_symbols:\n",
    "        rule = list(rule)\n",
    "        rule += '$'\n",
    "        \"\".join(rule)\n",
    "    if ord(rule[0]) - 65 not in rules_dic:\n",
    "        rules_dic[ord(rule[0])-65] = []\n",
    "    rules_dic[ord(rule[0])-65] = list(rules_dic[ord(rule[0])-65])\n",
    "    rules_dic[ord(rule[0])-65].insert(len(rules_dic[ord(rule[0])-65]),\n",
    "                                          (rule[-2], rule[-1]))\n",
    "    rules_dic[ord(rule[0])-65] = tuple(rules_dic[ord(rule[0])-65])\n",
    "print(rules_dic[0])\n",
    "print(rules_dic[1])\n",
    "print(rules_dic[2])\n",
    "print(rules_dic[18])"
   ]
  },
  {
   "cell_type": "code",
   "execution_count": 10,
   "metadata": {},
   "outputs": [
    {
     "name": "stdout",
     "output_type": "stream",
     "text": [
      "YES\n"
     ]
    }
   ],
   "source": [
    "current_symbol = start_symbol\n",
    "current_word = ''\n",
    "nr_ord_word = 0\n",
    "total_words = 1\n",
    "words = []\n",
    "aux = ''\n",
    "\n",
    "words = list(words)\n",
    "words.insert(0, ('', start_symbol))\n",
    "words = tuple(words)\n",
    "\n",
    "is_working = True\n",
    "while (is_working and nr_ord_word < total_words):\n",
    "    current_word, current_symbol = words[nr_ord_word]\n",
    "    for rule in rules_dic[ord(current_symbol) - 65]:\n",
    "        add_to_string, next_symbol = rule\n",
    "        #print(current_word + ' ' + current_symbol + ' ' + add_to_string + ' ' + next_symbol)\n",
    "        aux = current_word\n",
    "        aux += add_to_string\n",
    "        if (aux == check_string and next_symbol == '$'):\n",
    "            print('YES')\n",
    "            is_working = False\n",
    "        if(len(aux) < len(check_string) and aux in check_string):\n",
    "            words = list(words)\n",
    "            words.insert(total_words, (aux, next_symbol))\n",
    "            words = tuple(words)\n",
    "            total_words += 1\n",
    "    nr_ord_word += 1\n",
    "    while(nr_ord_word < total_words and words[nr_ord_word][1] == '$'):\n",
    "        nr_ord_word += 1\n",
    "if(is_working):\n",
    "    print('NO')"
   ]
  },
  {
   "cell_type": "code",
   "execution_count": 25,
   "metadata": {},
   "outputs": [
    {
     "data": {
      "image/png": "[encoded data removed]",
      "text/plain": [
       "<Figure size 432x288 with 1 Axes>"
      ]
     },
     "metadata": {},
     "output_type": "display_data"
    }
   ],
   "source": [
    "G = nx.DiGraph()\n",
    "\n",
    "for node in nonterminal_symbols:\n",
    "    for rule in rules_dic[ord(node) - 65]:\n",
    "        terminal_symbol, next_node = rule\n",
    "        G.add_edges_from([(node, next_node)], label = terminal_symbol)\n",
    "\n",
    "val_map = {}\n",
    "val_map[start_symbol] = 0.9\n",
    "val_map['$'] = 0.0\n",
    "for node in nonterminal_symbols:\n",
    "    val_map[start_symbol] = 0.5\n",
    "    \n",
    "values = [val_map.get(node, 0.45) for node in G.nodes()]\n",
    "edge_labels = dict([((u, v, ),d['label']) for u,v,d in G.edges(data = True)])\n",
    "edge_colors = ['black' for edge in G.edges()]\n",
    "\n",
    "pos = nx.spring_layout(G)\n",
    "nx.draw_networkx_edge_labels(G, pos, edge_labels = edge_labels)\n",
    "node_labels = {node:node for node in G.nodes()}\n",
    "nx.draw_networkx_labels(G, pos, labels=node_labels)\n",
    "nx.draw(G, pos, node_color = values, node_size = 300, edge_color = edge_colors,\n",
    "        edge_cmap = plt.cm.Reds)\n",
    "\n",
    "pylab.show()"
   ]
  }
 ],
 "metadata": {
  "kernelspec": {
   "display_name": "Python 3",
   "language": "python",
   "name": "python3"
  },
  "language_info": {
   "codemirror_mode": {
    "name": "ipython",
    "version": 3
   },
   "file_extension": ".py",
   "mimetype": "text/x-python",
   "name": "python",
   "nbconvert_exporter": "python",
   "pygments_lexer": "ipython3",
   "version": "3.8.5"
  }
 },
 "nbformat": 4,
 "nbformat_minor": 4
}
